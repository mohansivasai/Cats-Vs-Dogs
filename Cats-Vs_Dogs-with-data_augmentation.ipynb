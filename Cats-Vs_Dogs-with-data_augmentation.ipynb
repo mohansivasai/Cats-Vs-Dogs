{
  "nbformat": 4,
  "nbformat_minor": 0,
  "metadata": {
    "colab": {
      "name": " Kaggle-cats-vs-dogs-25k-with-data-augmentation.ipynb",
      "provenance": [],
      "collapsed_sections": [],
      "include_colab_link": true
    },
    "kernelspec": {
      "name": "python3",
      "display_name": "Python 3"
    },
    "accelerator": "GPU"
  },
  "cells": [
    {
      "cell_type": "markdown",
      "metadata": {
        "id": "view-in-github",
        "colab_type": "text"
      },
      "source": [
        "<a href=\"https://colab.research.google.com/github/mohansivasai/Cats-Vs-Dogs/blob/master/Cats-Vs_Dogs-with-data_augmentation.ipynb\" target=\"_parent\"><img src=\"https://colab.research.google.com/assets/colab-badge.svg\" alt=\"Open In Colab\"/></a>"
      ]
    },
    {
      "cell_type": "code",
      "metadata": {
        "id": "dn-6c02VmqiN",
        "colab_type": "code",
        "colab": {}
      },
      "source": [
        "import os\n",
        "import zipfile\n",
        "import random\n",
        "import tensorflow as tf\n",
        "from tensorflow.keras.optimizers import RMSprop\n",
        "from tensorflow.keras.preprocessing.image import ImageDataGenerator\n",
        "from shutil import copyfile"
      ],
      "execution_count": 0,
      "outputs": []
    },
    {
      "cell_type": "code",
      "metadata": {
        "id": "3sd9dQWa23aj",
        "colab_type": "code",
        "outputId": "b4232bd3-1bf6-4bed-be09-7b13cbaa0ec6",
        "colab": {
          "base_uri": "https://localhost:8080/",
          "height": 204
        }
      },
      "source": [
        "\n",
        "!wget --no-check-certificate \\\n",
        "    \"https://download.microsoft.com/download/3/E/1/3E1C3F21-ECDB-4869-8368-6DEBA77B919F/kagglecatsanddogs_3367a.zip\" \\\n",
        "    -O \"/tmp/cats-and-dogs.zip\"\n",
        "\n",
        "local_zip = '/tmp/cats-and-dogs.zip'\n",
        "zip_ref = zipfile.ZipFile(local_zip, 'r')\n",
        "zip_ref.extractall('/tmp')\n",
        "zip_ref.close()\n"
      ],
      "execution_count": 0,
      "outputs": [
        {
          "output_type": "stream",
          "text": [
            "--2019-12-18 14:04:52--  https://download.microsoft.com/download/3/E/1/3E1C3F21-ECDB-4869-8368-6DEBA77B919F/kagglecatsanddogs_3367a.zip\n",
            "Resolving download.microsoft.com (download.microsoft.com)... 23.45.144.230, 2600:1407:1800:38c::e59, 2600:1407:1800:380::e59\n",
            "Connecting to download.microsoft.com (download.microsoft.com)|23.45.144.230|:443... connected.\n",
            "HTTP request sent, awaiting response... 200 OK\n",
            "Length: 824894548 (787M) [application/octet-stream]\n",
            "Saving to: ‘/tmp/cats-and-dogs.zip’\n",
            "\n",
            "/tmp/cats-and-dogs. 100%[===================>] 786.68M   167MB/s    in 4.8s    \n",
            "\n",
            "2019-12-18 14:04:57 (163 MB/s) - ‘/tmp/cats-and-dogs.zip’ saved [824894548/824894548]\n",
            "\n"
          ],
          "name": "stdout"
        }
      ]
    },
    {
      "cell_type": "code",
      "metadata": {
        "id": "gi3yD62a6X3S",
        "colab_type": "code",
        "outputId": "27b9553c-80b3-4bb8-e5e4-370dff5e70b4",
        "colab": {
          "base_uri": "https://localhost:8080/",
          "height": 51
        }
      },
      "source": [
        "print(len(os.listdir('/tmp/PetImages/Cat/')))\n",
        "print(len(os.listdir('/tmp/PetImages/Dog/')))\n"
      ],
      "execution_count": 0,
      "outputs": [
        {
          "output_type": "stream",
          "text": [
            "12501\n",
            "12501\n"
          ],
          "name": "stdout"
        }
      ]
    },
    {
      "cell_type": "code",
      "metadata": {
        "id": "F-QkLjxpmyK2",
        "colab_type": "code",
        "colab": {}
      },
      "source": [
        "\n",
        "try:\n",
        "  os.mkdir('/tmp/cats-v-dogs/')\n",
        "  os.mkdir('/tmp/cats-v-dogs/training/')\n",
        "  os.mkdir('/tmp/cats-v-dogs/testing/')\n",
        "  os.mkdir('/tmp/cats-v-dogs/training/cats/')\n",
        "  os.mkdir('/tmp/cats-v-dogs/training/dogs/')\n",
        "  os.mkdir('/tmp/cats-v-dogs/testing/cats/')\n",
        "  os.mkdir('/tmp/cats-v-dogs/testing/dogs/')\n",
        "except OSError:\n",
        "    pass"
      ],
      "execution_count": 0,
      "outputs": []
    },
    {
      "cell_type": "code",
      "metadata": {
        "id": "zvSODo0f9LaU",
        "colab_type": "code",
        "outputId": "bfbf5f54-15e7-4dbb-86c4-2d063b74c013",
        "colab": {
          "base_uri": "https://localhost:8080/",
          "height": 51
        }
      },
      "source": [
        "\n",
        "# os.listdir(DIRECTORY) gives you a listing of the contents of that directory\n",
        "# os.path.getsize(PATH) gives you the size of the file\n",
        "# copyfile(source, destination) copies a file from source to destination\n",
        "# random.sample(list, len(list)) shuffles a list\n",
        "def split_data(SOURCE, TRAINING, TESTING, SPLIT_SIZE):\n",
        "  files = []\n",
        "  for filename in os.listdir(SOURCE):\n",
        "    if os.path.getsize(SOURCE + filename) > 0:\n",
        "      files.append(filename)\n",
        "    else:\n",
        "      print(filename ,\"is corrupt ,so neglecting! \")\n",
        "  train_len = int(len(files)*SPLIT_SIZE)\n",
        "  test_len = int(len(files)-train_len)\n",
        "  shuffled_list = random.sample(files,len(files))\n",
        "  training_list = shuffled_list[:train_len]\n",
        "  testing_list = shuffled_list[-test_len:]\n",
        "  for filename in training_list:\n",
        "    source = SOURCE + filename\n",
        "    dest = TRAINING + filename\n",
        "    copyfile(source,dest)\n",
        "  for filename in testing_list:\n",
        "    source = SOURCE + filename\n",
        "    dest = TESTING + filename\n",
        "    copyfile(source,dest) \n",
        "\n",
        "\n",
        "CAT_SOURCE_DIR = \"/tmp/PetImages/Cat/\"\n",
        "TRAINING_CATS_DIR = \"/tmp/cats-v-dogs/training/cats/\"\n",
        "TESTING_CATS_DIR = \"/tmp/cats-v-dogs/testing/cats/\"\n",
        "DOG_SOURCE_DIR = \"/tmp/PetImages/Dog/\"\n",
        "TRAINING_DOGS_DIR = \"/tmp/cats-v-dogs/training/dogs/\"\n",
        "TESTING_DOGS_DIR = \"/tmp/cats-v-dogs/testing/dogs/\"\n",
        "\n",
        "split_size = .9\n",
        "split_data(CAT_SOURCE_DIR, TRAINING_CATS_DIR, TESTING_CATS_DIR, split_size)\n",
        "split_data(DOG_SOURCE_DIR, TRAINING_DOGS_DIR, TESTING_DOGS_DIR, split_size)\n"
      ],
      "execution_count": 0,
      "outputs": [
        {
          "output_type": "stream",
          "text": [
            "666.jpg is corrupt ,so neglecting! \n",
            "11702.jpg is corrupt ,so neglecting! \n"
          ],
          "name": "stdout"
        }
      ]
    },
    {
      "cell_type": "code",
      "metadata": {
        "id": "luthalB76ufC",
        "colab_type": "code",
        "outputId": "d4248f02-7bee-4d88-9adc-7ccff47e52f9",
        "colab": {
          "base_uri": "https://localhost:8080/",
          "height": 85
        }
      },
      "source": [
        "print(len(os.listdir('/tmp/cats-v-dogs/training/cats/')))\n",
        "print(len(os.listdir('/tmp/cats-v-dogs/training/dogs/')))\n",
        "print(len(os.listdir('/tmp/cats-v-dogs/testing/cats/')))\n",
        "print(len(os.listdir('/tmp/cats-v-dogs/testing/dogs/')))\n"
      ],
      "execution_count": 0,
      "outputs": [
        {
          "output_type": "stream",
          "text": [
            "12385\n",
            "12358\n",
            "2385\n",
            "2358\n"
          ],
          "name": "stdout"
        }
      ]
    },
    {
      "cell_type": "code",
      "metadata": {
        "id": "-BQrav4anTmj",
        "colab_type": "code",
        "colab": {}
      },
      "source": [
        "\n",
        "model = tf.keras.models.Sequential([\n",
        "                                    tf.keras.layers.Conv2D(32,(3,3),activation = 'relu',input_shape = (150,150,3)),\n",
        "                                    tf.keras.layers.MaxPooling2D(2,2),\n",
        "                                    tf.keras.layers.Dropout(0.3),\n",
        "                                    tf.keras.layers.Conv2D(64,(3,3),activation = 'relu'),\n",
        "                                    tf.keras.layers.MaxPooling2D(2,2),\n",
        "                                    #tf.keras.layers.Dropout(0.5),\n",
        "                                    tf.keras.layers.Conv2D(128,(3,3),activation = 'relu'),\n",
        "                                    tf.keras.layers.MaxPooling2D(2,2),\n",
        "                                    tf.keras.layers.Flatten(),\n",
        "                                    #tf.keras.layers.Dropout(0.5),\n",
        "                                    tf.keras.layers.Dense(1024,activation = 'relu'),\n",
        "                                    #tf.keras.layers.Dropout(0.5),\n",
        "                                    tf.keras.layers.Dense(4096,activation = 'relu'),\n",
        "                                    tf.keras.layers.Dense(1,activation = 'sigmoid')\n",
        "\n",
        "\n",
        "])\n",
        "\n",
        "model.compile(optimizer=RMSprop(lr=0.001), loss='binary_crossentropy', metrics=['acc'])"
      ],
      "execution_count": 0,
      "outputs": []
    },
    {
      "cell_type": "code",
      "metadata": {
        "id": "8CjmPq7xJkOP",
        "colab_type": "code",
        "colab": {}
      },
      "source": [
        "class Callmeback(tf.keras.callbacks.Callback):\n",
        "  def on_epoch_end(self,epoch,logs={}):\n",
        "    if (logs.get('acc') and logs.get('val_acc')) > 0.95:\n",
        "      print(\"\\n Yess!!! Reached the great accuracy, so stopped training! \")\n",
        "      self.model.stop_training = True\n",
        "\n",
        "call = Callmeback()"
      ],
      "execution_count": 0,
      "outputs": []
    },
    {
      "cell_type": "code",
      "metadata": {
        "id": "mlNjoJ5D61N6",
        "colab_type": "code",
        "outputId": "fc7de225-9685-46f1-b5e4-625f211576e9",
        "colab": {
          "base_uri": "https://localhost:8080/",
          "height": 51
        }
      },
      "source": [
        "TRAINING_DIR = '/tmp/cats-v-dogs/training/' \n",
        "train_datagen = ImageDataGenerator(rescale = 1./255,rotation_range = 40,width_shift_range = 0.2,height_shift_range=0.2,shear_range=0.2,zoom_range=0.2,horizontal_flip=True,fill_mode='nearest')\n",
        "train_generator = train_datagen.flow_from_directory(\n",
        "    TRAINING_DIR,\n",
        "    target_size = (150,150),\n",
        "    batch_size = 100,\n",
        "    class_mode = 'binary')\n",
        "\n",
        "\n",
        "VALIDATION_DIR = '/tmp/cats-v-dogs/testing/'\n",
        "validation_datagen = ImageDataGenerator(rescale=1./255,rotation_range=30,width_shift_range=0.2,height_shift_range=0.2,shear_range=0.2,zoom_range=0.2,horizontal_flip=True,fill_mode='nearest')\n",
        "validation_generator = validation_datagen.flow_from_directory(\n",
        "    VALIDATION_DIR,\n",
        "    target_size = (150,150),\n",
        "    batch_size = 64,\n",
        "    class_mode= 'binary')\n"
      ],
      "execution_count": 0,
      "outputs": [
        {
          "output_type": "stream",
          "text": [
            "Found 24741 images belonging to 2 classes.\n",
            "Found 4743 images belonging to 2 classes.\n"
          ],
          "name": "stdout"
        }
      ]
    },
    {
      "cell_type": "code",
      "metadata": {
        "id": "KyS4n53w7DxC",
        "colab_type": "code",
        "outputId": "a194a70b-1dc0-4341-d541-3a572d9cc1ff",
        "colab": {
          "base_uri": "https://localhost:8080/",
          "height": 1000
        }
      },
      "source": [
        "history = model.fit_generator(train_generator,\n",
        "                              epochs=70,\n",
        "                              verbose=1,\n",
        "                              validation_data=validation_generator,callbacks = [call])\n"
      ],
      "execution_count": 0,
      "outputs": [
        {
          "output_type": "stream",
          "text": [
            "Epoch 1/70\n",
            " 32/248 [==>...........................] - ETA: 2:40 - loss: 10.3064 - acc: 0.4986"
          ],
          "name": "stdout"
        },
        {
          "output_type": "stream",
          "text": [
            "/usr/local/lib/python3.6/dist-packages/PIL/TiffImagePlugin.py:725: UserWarning: Possibly corrupt EXIF data.  Expecting to read 32 bytes but only got 0. Skipping tag 270\n",
            "  \" Skipping tag %s\" % (size, len(data), tag))\n",
            "/usr/local/lib/python3.6/dist-packages/PIL/TiffImagePlugin.py:725: UserWarning: Possibly corrupt EXIF data.  Expecting to read 5 bytes but only got 0. Skipping tag 271\n",
            "  \" Skipping tag %s\" % (size, len(data), tag))\n",
            "/usr/local/lib/python3.6/dist-packages/PIL/TiffImagePlugin.py:725: UserWarning: Possibly corrupt EXIF data.  Expecting to read 8 bytes but only got 0. Skipping tag 272\n",
            "  \" Skipping tag %s\" % (size, len(data), tag))\n",
            "/usr/local/lib/python3.6/dist-packages/PIL/TiffImagePlugin.py:725: UserWarning: Possibly corrupt EXIF data.  Expecting to read 8 bytes but only got 0. Skipping tag 282\n",
            "  \" Skipping tag %s\" % (size, len(data), tag))\n",
            "/usr/local/lib/python3.6/dist-packages/PIL/TiffImagePlugin.py:725: UserWarning: Possibly corrupt EXIF data.  Expecting to read 8 bytes but only got 0. Skipping tag 283\n",
            "  \" Skipping tag %s\" % (size, len(data), tag))\n",
            "/usr/local/lib/python3.6/dist-packages/PIL/TiffImagePlugin.py:725: UserWarning: Possibly corrupt EXIF data.  Expecting to read 20 bytes but only got 0. Skipping tag 306\n",
            "  \" Skipping tag %s\" % (size, len(data), tag))\n",
            "/usr/local/lib/python3.6/dist-packages/PIL/TiffImagePlugin.py:725: UserWarning: Possibly corrupt EXIF data.  Expecting to read 48 bytes but only got 0. Skipping tag 532\n",
            "  \" Skipping tag %s\" % (size, len(data), tag))\n",
            "/usr/local/lib/python3.6/dist-packages/PIL/TiffImagePlugin.py:742: UserWarning: Corrupt EXIF data.  Expecting to read 2 bytes but only got 0. \n",
            "  warnings.warn(str(msg))\n"
          ],
          "name": "stderr"
        },
        {
          "output_type": "stream",
          "text": [
            " 64/248 [======>.......................] - ETA: 2:15 - loss: 5.5019 - acc: 0.5013"
          ],
          "name": "stdout"
        },
        {
          "output_type": "stream",
          "text": [
            "/usr/local/lib/python3.6/dist-packages/PIL/TiffImagePlugin.py:725: UserWarning: Possibly corrupt EXIF data.  Expecting to read 209715200 bytes but only got 0. Skipping tag 48\n",
            "  \" Skipping tag %s\" % (size, len(data), tag))\n",
            "/usr/local/lib/python3.6/dist-packages/PIL/TiffImagePlugin.py:725: UserWarning: Possibly corrupt EXIF data.  Expecting to read 52428800 bytes but only got 0. Skipping tag 0\n",
            "  \" Skipping tag %s\" % (size, len(data), tag))\n",
            "/usr/local/lib/python3.6/dist-packages/PIL/TiffImagePlugin.py:725: UserWarning: Possibly corrupt EXIF data.  Expecting to read 6468665344 bytes but only got 0. Skipping tag 0\n",
            "  \" Skipping tag %s\" % (size, len(data), tag))\n",
            "/usr/local/lib/python3.6/dist-packages/PIL/TiffImagePlugin.py:725: UserWarning: Possibly corrupt EXIF data.  Expecting to read 1050744 bytes but only got 7027. Skipping tag 48\n",
            "  \" Skipping tag %s\" % (size, len(data), tag))\n",
            "/usr/local/lib/python3.6/dist-packages/PIL/TiffImagePlugin.py:725: UserWarning: Possibly corrupt EXIF data.  Expecting to read 422313984 bytes but only got 0. Skipping tag 5\n",
            "  \" Skipping tag %s\" % (size, len(data), tag))\n",
            "/usr/local/lib/python3.6/dist-packages/PIL/TiffImagePlugin.py:725: UserWarning: Possibly corrupt EXIF data.  Expecting to read 422838272 bytes but only got 0. Skipping tag 5\n",
            "  \" Skipping tag %s\" % (size, len(data), tag))\n",
            "/usr/local/lib/python3.6/dist-packages/PIL/TiffImagePlugin.py:725: UserWarning: Possibly corrupt EXIF data.  Expecting to read 3368026112 bytes but only got 0. Skipping tag 7\n",
            "  \" Skipping tag %s\" % (size, len(data), tag))\n",
            "/usr/local/lib/python3.6/dist-packages/PIL/TiffImagePlugin.py:725: UserWarning: Possibly corrupt EXIF data.  Expecting to read 134479872 bytes but only got 0. Skipping tag 7\n",
            "  \" Skipping tag %s\" % (size, len(data), tag))\n",
            "/usr/local/lib/python3.6/dist-packages/PIL/TiffImagePlugin.py:725: UserWarning: Possibly corrupt EXIF data.  Expecting to read 428867584 bytes but only got 0. Skipping tag 10\n",
            "  \" Skipping tag %s\" % (size, len(data), tag))\n",
            "/usr/local/lib/python3.6/dist-packages/PIL/TiffImagePlugin.py:725: UserWarning: Possibly corrupt EXIF data.  Expecting to read 429391872 bytes but only got 0. Skipping tag 5\n",
            "  \" Skipping tag %s\" % (size, len(data), tag))\n",
            "/usr/local/lib/python3.6/dist-packages/PIL/TiffImagePlugin.py:725: UserWarning: Possibly corrupt EXIF data.  Expecting to read 2031616 bytes but only got 0. Skipping tag 3\n",
            "  \" Skipping tag %s\" % (size, len(data), tag))\n",
            "/usr/local/lib/python3.6/dist-packages/PIL/TiffImagePlugin.py:725: UserWarning: Possibly corrupt EXIF data.  Expecting to read 429916160 bytes but only got 0. Skipping tag 5\n",
            "  \" Skipping tag %s\" % (size, len(data), tag))\n",
            "/usr/local/lib/python3.6/dist-packages/PIL/TiffImagePlugin.py:725: UserWarning: Possibly corrupt EXIF data.  Expecting to read 3300917248 bytes but only got 0. Skipping tag 7\n",
            "  \" Skipping tag %s\" % (size, len(data), tag))\n",
            "/usr/local/lib/python3.6/dist-packages/PIL/TiffImagePlugin.py:725: UserWarning: Possibly corrupt EXIF data.  Expecting to read 65536 bytes but only got 0. Skipping tag 3\n",
            "  \" Skipping tag %s\" % (size, len(data), tag))\n",
            "/usr/local/lib/python3.6/dist-packages/PIL/TiffImagePlugin.py:725: UserWarning: Possibly corrupt EXIF data.  Expecting to read 21299200 bytes but only got 0. Skipping tag 4\n",
            "  \" Skipping tag %s\" % (size, len(data), tag))\n",
            "/usr/local/lib/python3.6/dist-packages/PIL/TiffImagePlugin.py:725: UserWarning: Possibly corrupt EXIF data.  Expecting to read 24313856 bytes but only got 0. Skipping tag 4\n",
            "  \" Skipping tag %s\" % (size, len(data), tag))\n",
            "/usr/local/lib/python3.6/dist-packages/PIL/TiffImagePlugin.py:725: UserWarning: Possibly corrupt EXIF data.  Expecting to read 453771264 bytes but only got 7032. Skipping tag 4\n",
            "  \" Skipping tag %s\" % (size, len(data), tag))\n",
            "/usr/local/lib/python3.6/dist-packages/PIL/TiffImagePlugin.py:725: UserWarning: Possibly corrupt EXIF data.  Expecting to read 131073 bytes but only got 7028. Skipping tag 0\n",
            "  \" Skipping tag %s\" % (size, len(data), tag))\n",
            "/usr/local/lib/python3.6/dist-packages/PIL/TiffImagePlugin.py:725: UserWarning: Possibly corrupt EXIF data.  Expecting to read 393216 bytes but only got 0. Skipping tag 3\n",
            "  \" Skipping tag %s\" % (size, len(data), tag))\n",
            "/usr/local/lib/python3.6/dist-packages/PIL/TiffImagePlugin.py:725: UserWarning: Possibly corrupt EXIF data.  Expecting to read 416415744 bytes but only got 0. Skipping tag 5\n",
            "  \" Skipping tag %s\" % (size, len(data), tag))\n",
            "/usr/local/lib/python3.6/dist-packages/PIL/TiffImagePlugin.py:725: UserWarning: Possibly corrupt EXIF data.  Expecting to read 416940032 bytes but only got 0. Skipping tag 5\n",
            "  \" Skipping tag %s\" % (size, len(data), tag))\n",
            "/usr/local/lib/python3.6/dist-packages/PIL/TiffImagePlugin.py:725: UserWarning: Possibly corrupt EXIF data.  Expecting to read 131072 bytes but only got 0. Skipping tag 3\n",
            "  \" Skipping tag %s\" % (size, len(data), tag))\n",
            "/usr/local/lib/python3.6/dist-packages/PIL/TiffImagePlugin.py:725: UserWarning: Possibly corrupt EXIF data.  Expecting to read 524288 bytes but only got 0. Skipping tag 4\n",
            "  \" Skipping tag %s\" % (size, len(data), tag))\n",
            "/usr/local/lib/python3.6/dist-packages/PIL/TiffImagePlugin.py:725: UserWarning: Possibly corrupt EXIF data.  Expecting to read 415825920 bytes but only got 7032. Skipping tag 4\n",
            "  \" Skipping tag %s\" % (size, len(data), tag))\n",
            "/usr/local/lib/python3.6/dist-packages/PIL/TiffImagePlugin.py:742: UserWarning: Corrupt EXIF data.  Expecting to read 12 bytes but only got 2. \n",
            "  warnings.warn(str(msg))\n"
          ],
          "name": "stderr"
        },
        {
          "output_type": "stream",
          "text": [
            " 76/248 [========>.....................] - ETA: 2:06 - loss: 4.7468 - acc: 0.5029"
          ],
          "name": "stdout"
        },
        {
          "output_type": "stream",
          "text": [
            "/usr/local/lib/python3.6/dist-packages/PIL/TiffImagePlugin.py:725: UserWarning: Possibly corrupt EXIF data.  Expecting to read 80000 bytes but only got 0. Skipping tag 64640\n",
            "  \" Skipping tag %s\" % (size, len(data), tag))\n",
            "/usr/local/lib/python3.6/dist-packages/PIL/TiffImagePlugin.py:725: UserWarning: Possibly corrupt EXIF data.  Expecting to read 307363840 bytes but only got 0. Skipping tag 5\n",
            "  \" Skipping tag %s\" % (size, len(data), tag))\n",
            "/usr/local/lib/python3.6/dist-packages/PIL/TiffImagePlugin.py:725: UserWarning: Possibly corrupt EXIF data.  Expecting to read 307888128 bytes but only got 0. Skipping tag 5\n",
            "  \" Skipping tag %s\" % (size, len(data), tag))\n",
            "/usr/local/lib/python3.6/dist-packages/PIL/TiffImagePlugin.py:725: UserWarning: Possibly corrupt EXIF data.  Expecting to read 328728576 bytes but only got 0. Skipping tag 4\n",
            "  \" Skipping tag %s\" % (size, len(data), tag))\n",
            "/usr/local/lib/python3.6/dist-packages/PIL/TiffImagePlugin.py:725: UserWarning: Possibly corrupt EXIF data.  Expecting to read 1385474 bytes but only got 5357. Skipping tag 513\n",
            "  \" Skipping tag %s\" % (size, len(data), tag))\n",
            "/usr/local/lib/python3.6/dist-packages/PIL/TiffImagePlugin.py:725: UserWarning: Possibly corrupt EXIF data.  Expecting to read 3846701056 bytes but only got 0. Skipping tag 2\n",
            "  \" Skipping tag %s\" % (size, len(data), tag))\n",
            "/usr/local/lib/python3.6/dist-packages/PIL/TiffImagePlugin.py:725: UserWarning: Possibly corrupt EXIF data.  Expecting to read 196867 bytes but only got 5357. Skipping tag 0\n",
            "  \" Skipping tag %s\" % (size, len(data), tag))\n",
            "/usr/local/lib/python3.6/dist-packages/PIL/TiffImagePlugin.py:742: UserWarning: Corrupt EXIF data.  Expecting to read 12 bytes but only got 8. \n",
            "  warnings.warn(str(msg))\n"
          ],
          "name": "stderr"
        },
        {
          "output_type": "stream",
          "text": [
            "151/248 [=================>............] - ETA: 1:11 - loss: 2.7362 - acc: 0.5088"
          ],
          "name": "stdout"
        },
        {
          "output_type": "stream",
          "text": [
            "/usr/local/lib/python3.6/dist-packages/PIL/TiffImagePlugin.py:725: UserWarning: Possibly corrupt EXIF data.  Expecting to read 18350080 bytes but only got 0. Skipping tag 0\n",
            "  \" Skipping tag %s\" % (size, len(data), tag))\n",
            "/usr/local/lib/python3.6/dist-packages/PIL/TiffImagePlugin.py:742: UserWarning: Corrupt EXIF data.  Expecting to read 12 bytes but only got 6. \n",
            "  warnings.warn(str(msg))\n"
          ],
          "name": "stderr"
        },
        {
          "output_type": "stream",
          "text": [
            "207/248 [========================>.....] - ETA: 29s - loss: 2.1855 - acc: 0.5188"
          ],
          "name": "stdout"
        },
        {
          "output_type": "stream",
          "text": [
            "/usr/local/lib/python3.6/dist-packages/PIL/TiffImagePlugin.py:725: UserWarning: Possibly corrupt EXIF data.  Expecting to read 6553600 bytes but only got 0. Skipping tag 49\n",
            "  \" Skipping tag %s\" % (size, len(data), tag))\n",
            "/usr/local/lib/python3.6/dist-packages/PIL/TiffImagePlugin.py:725: UserWarning: Possibly corrupt EXIF data.  Expecting to read 1050744 bytes but only got 4951. Skipping tag 51\n",
            "  \" Skipping tag %s\" % (size, len(data), tag))\n",
            "/usr/local/lib/python3.6/dist-packages/PIL/TiffImagePlugin.py:725: UserWarning: Possibly corrupt EXIF data.  Expecting to read 293339136 bytes but only got 0. Skipping tag 5\n",
            "  \" Skipping tag %s\" % (size, len(data), tag))\n",
            "/usr/local/lib/python3.6/dist-packages/PIL/TiffImagePlugin.py:725: UserWarning: Possibly corrupt EXIF data.  Expecting to read 293863424 bytes but only got 0. Skipping tag 5\n",
            "  \" Skipping tag %s\" % (size, len(data), tag))\n",
            "/usr/local/lib/python3.6/dist-packages/PIL/TiffImagePlugin.py:725: UserWarning: Possibly corrupt EXIF data.  Expecting to read 295698432 bytes but only got 0. Skipping tag 10\n",
            "  \" Skipping tag %s\" % (size, len(data), tag))\n",
            "/usr/local/lib/python3.6/dist-packages/PIL/TiffImagePlugin.py:725: UserWarning: Possibly corrupt EXIF data.  Expecting to read 296222720 bytes but only got 0. Skipping tag 5\n",
            "  \" Skipping tag %s\" % (size, len(data), tag))\n",
            "/usr/local/lib/python3.6/dist-packages/PIL/TiffImagePlugin.py:725: UserWarning: Possibly corrupt EXIF data.  Expecting to read 14745600 bytes but only got 0. Skipping tag 4\n",
            "  \" Skipping tag %s\" % (size, len(data), tag))\n",
            "/usr/local/lib/python3.6/dist-packages/PIL/TiffImagePlugin.py:725: UserWarning: Possibly corrupt EXIF data.  Expecting to read 25624576 bytes but only got 0. Skipping tag 4\n",
            "  \" Skipping tag %s\" % (size, len(data), tag))\n",
            "/usr/local/lib/python3.6/dist-packages/PIL/TiffImagePlugin.py:725: UserWarning: Possibly corrupt EXIF data.  Expecting to read 317718528 bytes but only got 4956. Skipping tag 4\n",
            "  \" Skipping tag %s\" % (size, len(data), tag))\n",
            "/usr/local/lib/python3.6/dist-packages/PIL/TiffImagePlugin.py:725: UserWarning: Possibly corrupt EXIF data.  Expecting to read 131073 bytes but only got 4952. Skipping tag 0\n",
            "  \" Skipping tag %s\" % (size, len(data), tag))\n",
            "/usr/local/lib/python3.6/dist-packages/PIL/TiffImagePlugin.py:725: UserWarning: Possibly corrupt EXIF data.  Expecting to read 287178752 bytes but only got 0. Skipping tag 5\n",
            "  \" Skipping tag %s\" % (size, len(data), tag))\n",
            "/usr/local/lib/python3.6/dist-packages/PIL/TiffImagePlugin.py:725: UserWarning: Possibly corrupt EXIF data.  Expecting to read 287703040 bytes but only got 0. Skipping tag 5\n",
            "  \" Skipping tag %s\" % (size, len(data), tag))\n",
            "/usr/local/lib/python3.6/dist-packages/PIL/TiffImagePlugin.py:725: UserWarning: Possibly corrupt EXIF data.  Expecting to read 286654464 bytes but only got 4956. Skipping tag 4\n",
            "  \" Skipping tag %s\" % (size, len(data), tag))\n"
          ],
          "name": "stderr"
        },
        {
          "output_type": "stream",
          "text": [
            "\b\b\b\b\b\b\b\b\b\b\b\b\b\b\b\b\b\b\b\b\b\b\b\b\b\b\b\b\b\b\b\b\b\b\b\b\b\b\b\b\b\b\b\b\b\b\b\b\b\b\b\b\b\b\b\b\b\b\b\b\b\b\b\b\b\b\b\b\b\b\b\b\b\b\b\b\b\b\b\b\r208/248 [========================>.....] - ETA: 29s - loss: 2.1784 - acc: 0.5188"
          ],
          "name": "stdout"
        },
        {
          "output_type": "stream",
          "text": [
            "/usr/local/lib/python3.6/dist-packages/PIL/TiffImagePlugin.py:725: UserWarning: Possibly corrupt EXIF data.  Expecting to read 262146 bytes but only got 0. Skipping tag 2\n",
            "  \" Skipping tag %s\" % (size, len(data), tag))\n",
            "/usr/local/lib/python3.6/dist-packages/PIL/TiffImagePlugin.py:725: UserWarning: Possibly corrupt EXIF data.  Expecting to read 262151 bytes but only got 0. Skipping tag 56\n",
            "  \" Skipping tag %s\" % (size, len(data), tag))\n",
            "/usr/local/lib/python3.6/dist-packages/PIL/TiffImagePlugin.py:742: UserWarning: Corrupt EXIF data.  Expecting to read 12 bytes but only got 0. \n",
            "  warnings.warn(str(msg))\n"
          ],
          "name": "stderr"
        },
        {
          "output_type": "stream",
          "text": [
            "247/248 [============================>.] - ETA: 0s - loss: 1.9426 - acc: 0.5287Epoch 1/70\n",
            " 46/248 [====>.........................] - ETA: 1:57 - loss: 0.6482 - acc: 0.6155"
          ],
          "name": "stdout"
        },
        {
          "output_type": "stream",
          "text": [
            "/usr/local/lib/python3.6/dist-packages/PIL/TiffImagePlugin.py:725: UserWarning: Possibly corrupt EXIF data.  Expecting to read 404094976 bytes but only got 0. Skipping tag 5\n",
            "  \" Skipping tag %s\" % (size, len(data), tag))\n",
            "/usr/local/lib/python3.6/dist-packages/PIL/TiffImagePlugin.py:725: UserWarning: Possibly corrupt EXIF data.  Expecting to read 404619264 bytes but only got 0. Skipping tag 5\n",
            "  \" Skipping tag %s\" % (size, len(data), tag))\n",
            "/usr/local/lib/python3.6/dist-packages/PIL/TiffImagePlugin.py:725: UserWarning: Possibly corrupt EXIF data.  Expecting to read 425459712 bytes but only got 0. Skipping tag 4\n",
            "  \" Skipping tag %s\" % (size, len(data), tag))\n",
            "/usr/local/lib/python3.6/dist-packages/PIL/TiffImagePlugin.py:725: UserWarning: Possibly corrupt EXIF data.  Expecting to read 1385474 bytes but only got 6833. Skipping tag 513\n",
            "  \" Skipping tag %s\" % (size, len(data), tag))\n",
            "/usr/local/lib/python3.6/dist-packages/PIL/TiffImagePlugin.py:725: UserWarning: Possibly corrupt EXIF data.  Expecting to read 196867 bytes but only got 6833. Skipping tag 0\n",
            "  \" Skipping tag %s\" % (size, len(data), tag))\n"
          ],
          "name": "stderr"
        },
        {
          "output_type": "stream",
          "text": [
            "248/248 [==============================] - 220s 887ms/step - loss: 1.9372 - acc: 0.5291 - val_loss: 0.6584 - val_acc: 0.6133\n",
            "Epoch 2/70\n",
            "247/248 [============================>.] - ETA: 0s - loss: 0.6454 - acc: 0.6426Epoch 1/70\n",
            "248/248 [==============================] - 205s 829ms/step - loss: 0.6452 - acc: 0.6428 - val_loss: 0.6020 - val_acc: 0.6610\n",
            "Epoch 3/70\n",
            "247/248 [============================>.] - ETA: 0s - loss: 0.6043 - acc: 0.6768Epoch 1/70\n",
            "248/248 [==============================] - 201s 812ms/step - loss: 0.6043 - acc: 0.6768 - val_loss: 0.5786 - val_acc: 0.6932\n",
            "Epoch 4/70\n",
            "247/248 [============================>.] - ETA: 0s - loss: 0.5717 - acc: 0.7038Epoch 1/70\n",
            "248/248 [==============================] - 200s 805ms/step - loss: 0.5717 - acc: 0.7039 - val_loss: 0.6097 - val_acc: 0.6793\n",
            "Epoch 5/70\n",
            "247/248 [============================>.] - ETA: 0s - loss: 0.5521 - acc: 0.7230Epoch 1/70\n",
            "248/248 [==============================] - 200s 808ms/step - loss: 0.5521 - acc: 0.7229 - val_loss: 0.5493 - val_acc: 0.7204\n",
            "Epoch 6/70\n",
            "247/248 [============================>.] - ETA: 0s - loss: 0.5307 - acc: 0.7366Epoch 1/70\n",
            "248/248 [==============================] - 200s 808ms/step - loss: 0.5303 - acc: 0.7370 - val_loss: 0.5425 - val_acc: 0.7204\n",
            "Epoch 7/70\n",
            "247/248 [============================>.] - ETA: 0s - loss: 0.5145 - acc: 0.7489Epoch 1/70\n",
            "248/248 [==============================] - 205s 828ms/step - loss: 0.5145 - acc: 0.7489 - val_loss: 0.4782 - val_acc: 0.7710\n",
            "Epoch 8/70\n",
            "247/248 [============================>.] - ETA: 0s - loss: 0.5021 - acc: 0.7578Epoch 1/70\n",
            "248/248 [==============================] - 203s 818ms/step - loss: 0.5029 - acc: 0.7574 - val_loss: 0.5052 - val_acc: 0.7476\n",
            "Epoch 9/70\n",
            "247/248 [============================>.] - ETA: 0s - loss: 0.4921 - acc: 0.7642Epoch 1/70\n",
            "248/248 [==============================] - 201s 812ms/step - loss: 0.4929 - acc: 0.7638 - val_loss: 0.5082 - val_acc: 0.7478\n",
            "Epoch 10/70\n",
            "247/248 [============================>.] - ETA: 0s - loss: 0.4820 - acc: 0.7759Epoch 1/70\n",
            "248/248 [==============================] - 202s 816ms/step - loss: 0.4823 - acc: 0.7758 - val_loss: 0.5073 - val_acc: 0.7683\n",
            "Epoch 11/70\n",
            "247/248 [============================>.] - ETA: 0s - loss: 0.4690 - acc: 0.7807Epoch 1/70\n",
            "248/248 [==============================] - 203s 819ms/step - loss: 0.4689 - acc: 0.7808 - val_loss: 0.4221 - val_acc: 0.8083\n",
            "Epoch 12/70\n",
            "247/248 [============================>.] - ETA: 0s - loss: 0.4550 - acc: 0.7882Epoch 1/70\n",
            "248/248 [==============================] - 202s 814ms/step - loss: 0.4546 - acc: 0.7884 - val_loss: 0.4257 - val_acc: 0.8046\n",
            "Epoch 13/70\n",
            "247/248 [============================>.] - ETA: 0s - loss: 0.4428 - acc: 0.7955Epoch 1/70\n",
            "248/248 [==============================] - 202s 814ms/step - loss: 0.4423 - acc: 0.7957 - val_loss: 0.4551 - val_acc: 0.8018\n",
            "Epoch 14/70\n",
            "247/248 [============================>.] - ETA: 0s - loss: 0.4352 - acc: 0.7998Epoch 1/70\n",
            "248/248 [==============================] - 204s 823ms/step - loss: 0.4351 - acc: 0.8000 - val_loss: 0.4080 - val_acc: 0.8098\n",
            "Epoch 15/70\n",
            "247/248 [============================>.] - ETA: 0s - loss: 0.4271 - acc: 0.8071Epoch 1/70\n",
            "248/248 [==============================] - 201s 809ms/step - loss: 0.4271 - acc: 0.8072 - val_loss: 0.3702 - val_acc: 0.8385\n",
            "Epoch 16/70\n",
            "247/248 [============================>.] - ETA: 0s - loss: 0.4263 - acc: 0.8105Epoch 1/70\n",
            "248/248 [==============================] - 199s 802ms/step - loss: 0.4270 - acc: 0.8102 - val_loss: 0.4775 - val_acc: 0.7552\n",
            "Epoch 17/70\n",
            "247/248 [============================>.] - ETA: 0s - loss: 0.4084 - acc: 0.8163Epoch 1/70\n",
            "248/248 [==============================] - 199s 803ms/step - loss: 0.4089 - acc: 0.8160 - val_loss: 0.3619 - val_acc: 0.8429\n",
            "Epoch 18/70\n",
            "247/248 [============================>.] - ETA: 0s - loss: 0.3987 - acc: 0.8237Epoch 1/70\n",
            "248/248 [==============================] - 199s 802ms/step - loss: 0.3986 - acc: 0.8238 - val_loss: 0.3598 - val_acc: 0.8347\n",
            "Epoch 19/70\n",
            "247/248 [============================>.] - ETA: 0s - loss: 0.4001 - acc: 0.8211Epoch 1/70\n",
            "248/248 [==============================] - 203s 818ms/step - loss: 0.4003 - acc: 0.8208 - val_loss: 0.3442 - val_acc: 0.8549\n",
            "Epoch 20/70\n",
            "247/248 [============================>.] - ETA: 0s - loss: 0.4035 - acc: 0.8212Epoch 1/70\n",
            "248/248 [==============================] - 208s 840ms/step - loss: 0.4030 - acc: 0.8215 - val_loss: 0.3366 - val_acc: 0.8568\n",
            "Epoch 21/70\n",
            "247/248 [============================>.] - ETA: 0s - loss: 0.3907 - acc: 0.8245Epoch 1/70\n",
            "248/248 [==============================] - 206s 829ms/step - loss: 0.3909 - acc: 0.8245 - val_loss: 0.3420 - val_acc: 0.8461\n",
            "Epoch 22/70\n",
            "247/248 [============================>.] - ETA: 0s - loss: 0.3820 - acc: 0.8332Epoch 1/70\n",
            "248/248 [==============================] - 202s 813ms/step - loss: 0.3817 - acc: 0.8334 - val_loss: 0.3964 - val_acc: 0.8516\n",
            "Epoch 23/70\n",
            "247/248 [============================>.] - ETA: 0s - loss: 0.3863 - acc: 0.8314Epoch 1/70\n",
            "248/248 [==============================] - 201s 811ms/step - loss: 0.3862 - acc: 0.8315 - val_loss: 0.3403 - val_acc: 0.8480\n",
            "Epoch 24/70\n",
            "247/248 [============================>.] - ETA: 0s - loss: 0.3737 - acc: 0.8357Epoch 1/70\n",
            "248/248 [==============================] - 201s 812ms/step - loss: 0.3737 - acc: 0.8358 - val_loss: 0.4161 - val_acc: 0.8267\n",
            "Epoch 25/70\n",
            "247/248 [============================>.] - ETA: 0s - loss: 0.3822 - acc: 0.8325Epoch 1/70\n",
            "248/248 [==============================] - 202s 814ms/step - loss: 0.3822 - acc: 0.8326 - val_loss: 0.3739 - val_acc: 0.8431\n",
            "Epoch 26/70\n",
            "247/248 [============================>.] - ETA: 0s - loss: 0.3745 - acc: 0.8352Epoch 1/70\n",
            "248/248 [==============================] - 199s 804ms/step - loss: 0.3744 - acc: 0.8353 - val_loss: 0.3211 - val_acc: 0.8661\n",
            "Epoch 27/70\n",
            "247/248 [============================>.] - ETA: 0s - loss: 0.3731 - acc: 0.8372Epoch 1/70\n",
            "248/248 [==============================] - 200s 805ms/step - loss: 0.3730 - acc: 0.8372 - val_loss: 0.3444 - val_acc: 0.8571\n",
            "Epoch 28/70\n",
            "247/248 [============================>.] - ETA: 0s - loss: 0.3689 - acc: 0.8388Epoch 1/70\n",
            "248/248 [==============================] - 199s 803ms/step - loss: 0.3686 - acc: 0.8389 - val_loss: 0.3151 - val_acc: 0.8754\n",
            "Epoch 29/70\n",
            "247/248 [============================>.] - ETA: 0s - loss: 0.3641 - acc: 0.8420Epoch 1/70\n",
            "248/248 [==============================] - 200s 805ms/step - loss: 0.3638 - acc: 0.8422 - val_loss: 0.4514 - val_acc: 0.8277\n",
            "Epoch 30/70\n",
            "247/248 [============================>.] - ETA: 0s - loss: 0.3651 - acc: 0.8415Epoch 1/70\n",
            "248/248 [==============================] - 200s 806ms/step - loss: 0.3672 - acc: 0.8404 - val_loss: 0.5554 - val_acc: 0.7154\n",
            "Epoch 31/70\n",
            "247/248 [============================>.] - ETA: 0s - loss: 0.3665 - acc: 0.8410Epoch 1/70\n",
            "248/248 [==============================] - 199s 804ms/step - loss: 0.3707 - acc: 0.8404 - val_loss: 0.4583 - val_acc: 0.7963\n",
            "Epoch 32/70\n",
            "247/248 [============================>.] - ETA: 0s - loss: 0.3578 - acc: 0.8429Epoch 1/70\n",
            "248/248 [==============================] - 199s 804ms/step - loss: 0.3575 - acc: 0.8431 - val_loss: 0.3747 - val_acc: 0.8499\n",
            "Epoch 33/70\n",
            "247/248 [============================>.] - ETA: 0s - loss: 0.3592 - acc: 0.8456Epoch 1/70\n",
            "248/248 [==============================] - 199s 802ms/step - loss: 0.3590 - acc: 0.8458 - val_loss: 0.2822 - val_acc: 0.8758\n",
            "Epoch 34/70\n",
            "247/248 [============================>.] - ETA: 0s - loss: 0.3612 - acc: 0.8431Epoch 1/70\n",
            "248/248 [==============================] - 199s 801ms/step - loss: 0.3612 - acc: 0.8432 - val_loss: 0.3108 - val_acc: 0.8604\n",
            "Epoch 35/70\n",
            "247/248 [============================>.] - ETA: 0s - loss: 0.3505 - acc: 0.8511Epoch 1/70\n",
            "248/248 [==============================] - 199s 803ms/step - loss: 0.3504 - acc: 0.8512 - val_loss: 0.2972 - val_acc: 0.8722\n",
            "Epoch 36/70\n",
            "247/248 [============================>.] - ETA: 0s - loss: 0.3670 - acc: 0.8489Epoch 1/70\n",
            "248/248 [==============================] - 202s 813ms/step - loss: 0.3667 - acc: 0.8491 - val_loss: 0.3052 - val_acc: 0.8731\n",
            "Epoch 37/70\n",
            "247/248 [============================>.] - ETA: 0s - loss: 0.3506 - acc: 0.8471Epoch 1/70\n",
            "248/248 [==============================] - 199s 804ms/step - loss: 0.3509 - acc: 0.8470 - val_loss: 0.6834 - val_acc: 0.7329\n",
            "Epoch 38/70\n",
            "247/248 [============================>.] - ETA: 0s - loss: 0.3558 - acc: 0.8464Epoch 1/70\n",
            "248/248 [==============================] - 200s 805ms/step - loss: 0.3558 - acc: 0.8464 - val_loss: 0.4489 - val_acc: 0.8187\n",
            "Epoch 39/70\n",
            "247/248 [============================>.] - ETA: 0s - loss: 0.3509 - acc: 0.8480Epoch 1/70\n",
            "248/248 [==============================] - 201s 810ms/step - loss: 0.3510 - acc: 0.8480 - val_loss: 0.3072 - val_acc: 0.8758\n",
            "Epoch 40/70\n",
            "247/248 [============================>.] - ETA: 0s - loss: 0.3548 - acc: 0.8483Epoch 1/70\n",
            "248/248 [==============================] - 201s 809ms/step - loss: 0.3548 - acc: 0.8482 - val_loss: 0.5120 - val_acc: 0.8155\n",
            "Epoch 41/70\n",
            "247/248 [============================>.] - ETA: 0s - loss: 0.3541 - acc: 0.8474Epoch 1/70\n",
            "248/248 [==============================] - 200s 807ms/step - loss: 0.3542 - acc: 0.8474 - val_loss: 0.3026 - val_acc: 0.8754\n",
            "Epoch 42/70\n",
            "247/248 [============================>.] - ETA: 0s - loss: 0.3435 - acc: 0.8513Epoch 1/70\n",
            "248/248 [==============================] - 199s 801ms/step - loss: 0.3431 - acc: 0.8514 - val_loss: 0.4112 - val_acc: 0.8554\n",
            "Epoch 43/70\n",
            "247/248 [============================>.] - ETA: 0s - loss: 0.3532 - acc: 0.8484Epoch 1/70\n",
            "248/248 [==============================] - 201s 811ms/step - loss: 0.3533 - acc: 0.8483 - val_loss: 0.2916 - val_acc: 0.8760\n",
            "Epoch 44/70\n",
            "247/248 [============================>.] - ETA: 0s - loss: 0.3445 - acc: 0.8508Epoch 1/70\n",
            "248/248 [==============================] - 202s 817ms/step - loss: 0.3443 - acc: 0.8509 - val_loss: 0.2761 - val_acc: 0.8798\n",
            "Epoch 45/70\n",
            "247/248 [============================>.] - ETA: 0s - loss: 0.3359 - acc: 0.8566Epoch 1/70\n",
            "248/248 [==============================] - 202s 816ms/step - loss: 0.3359 - acc: 0.8566 - val_loss: 0.2951 - val_acc: 0.8775\n",
            "Epoch 46/70\n",
            "247/248 [============================>.] - ETA: 0s - loss: 0.3379 - acc: 0.8541Epoch 1/70\n",
            "248/248 [==============================] - 201s 812ms/step - loss: 0.3377 - acc: 0.8543 - val_loss: 0.3026 - val_acc: 0.8864\n",
            "Epoch 47/70\n",
            "247/248 [============================>.] - ETA: 0s - loss: 0.3424 - acc: 0.8539Epoch 1/70\n",
            "248/248 [==============================] - 200s 807ms/step - loss: 0.3428 - acc: 0.8537 - val_loss: 0.3030 - val_acc: 0.8691\n",
            "Epoch 48/70\n",
            "247/248 [============================>.] - ETA: 0s - loss: 0.3423 - acc: 0.8577Epoch 1/70\n",
            "248/248 [==============================] - 206s 831ms/step - loss: 0.3425 - acc: 0.8575 - val_loss: 0.2717 - val_acc: 0.8836\n",
            "Epoch 49/70\n",
            "247/248 [============================>.] - ETA: 0s - loss: 0.3290 - acc: 0.8599Epoch 1/70\n",
            "248/248 [==============================] - 203s 818ms/step - loss: 0.3292 - acc: 0.8600 - val_loss: 0.4805 - val_acc: 0.7900\n",
            "Epoch 50/70\n",
            "247/248 [============================>.] - ETA: 0s - loss: 0.3281 - acc: 0.8596Epoch 1/70\n",
            "248/248 [==============================] - 207s 837ms/step - loss: 0.3283 - acc: 0.8595 - val_loss: 1.1309 - val_acc: 0.6799\n",
            "Epoch 51/70\n",
            "247/248 [============================>.] - ETA: 0s - loss: 0.3342 - acc: 0.8551Epoch 1/70\n",
            "248/248 [==============================] - 204s 822ms/step - loss: 0.3338 - acc: 0.8552 - val_loss: 0.2493 - val_acc: 0.8937\n",
            "Epoch 52/70\n",
            "247/248 [============================>.] - ETA: 0s - loss: 0.3362 - acc: 0.8576Epoch 1/70\n",
            "248/248 [==============================] - 204s 821ms/step - loss: 0.3358 - acc: 0.8578 - val_loss: 0.2714 - val_acc: 0.8864\n",
            "Epoch 53/70\n",
            "247/248 [============================>.] - ETA: 0s - loss: 0.3278 - acc: 0.8578Epoch 1/70\n",
            "248/248 [==============================] - 205s 825ms/step - loss: 0.3287 - acc: 0.8576 - val_loss: 0.4630 - val_acc: 0.7894\n",
            "Epoch 54/70\n",
            "247/248 [============================>.] - ETA: 0s - loss: 0.3270 - acc: 0.8625Epoch 1/70\n",
            "248/248 [==============================] - 205s 826ms/step - loss: 0.3276 - acc: 0.8621 - val_loss: 0.3310 - val_acc: 0.8417\n",
            "Epoch 55/70\n",
            "247/248 [============================>.] - ETA: 0s - loss: 0.3333 - acc: 0.8613Epoch 1/70\n",
            "248/248 [==============================] - 212s 855ms/step - loss: 0.3330 - acc: 0.8615 - val_loss: 0.3133 - val_acc: 0.8676\n",
            "Epoch 56/70\n",
            "247/248 [============================>.] - ETA: 0s - loss: 0.3275 - acc: 0.8602Epoch 1/70\n",
            "248/248 [==============================] - 206s 832ms/step - loss: 0.3276 - acc: 0.8600 - val_loss: 0.2986 - val_acc: 0.8718\n",
            "Epoch 57/70\n",
            "247/248 [============================>.] - ETA: 0s - loss: 0.3234 - acc: 0.8635Epoch 1/70\n",
            "248/248 [==============================] - 206s 830ms/step - loss: 0.3232 - acc: 0.8637 - val_loss: 0.2845 - val_acc: 0.8790\n",
            "Epoch 58/70\n",
            "247/248 [============================>.] - ETA: 0s - loss: 0.3284 - acc: 0.8602Epoch 1/70\n",
            "248/248 [==============================] - 208s 840ms/step - loss: 0.3289 - acc: 0.8602 - val_loss: 0.3366 - val_acc: 0.8526\n",
            "Epoch 59/70\n",
            "247/248 [============================>.] - ETA: 0s - loss: 0.3210 - acc: 0.8610Epoch 1/70\n",
            "248/248 [==============================] - 213s 858ms/step - loss: 0.3204 - acc: 0.8615 - val_loss: 0.2566 - val_acc: 0.8908\n",
            "Epoch 60/70\n",
            "247/248 [============================>.] - ETA: 0s - loss: 0.3255 - acc: 0.8592Epoch 1/70\n",
            "248/248 [==============================] - 218s 879ms/step - loss: 0.3262 - acc: 0.8589 - val_loss: 0.4012 - val_acc: 0.8145\n",
            "Epoch 61/70\n",
            "247/248 [============================>.] - ETA: 0s - loss: 0.3219 - acc: 0.8645Epoch 1/70\n",
            "248/248 [==============================] - 208s 838ms/step - loss: 0.3217 - acc: 0.8647 - val_loss: 0.3500 - val_acc: 0.8514\n",
            "Epoch 62/70\n",
            "247/248 [============================>.] - ETA: 0s - loss: 0.3211 - acc: 0.8647Epoch 1/70\n",
            "248/248 [==============================] - 207s 833ms/step - loss: 0.3210 - acc: 0.8647 - val_loss: 0.3505 - val_acc: 0.8564\n",
            "Epoch 63/70\n",
            "247/248 [============================>.] - ETA: 0s - loss: 0.3226 - acc: 0.8605Epoch 1/70\n",
            "248/248 [==============================] - 207s 837ms/step - loss: 0.3226 - acc: 0.8605 - val_loss: 0.2793 - val_acc: 0.8836\n",
            "Epoch 64/70\n",
            "247/248 [============================>.] - ETA: 0s - loss: 0.3159 - acc: 0.8640Epoch 1/70\n",
            "248/248 [==============================] - 201s 809ms/step - loss: 0.3160 - acc: 0.8641 - val_loss: 0.2335 - val_acc: 0.9015\n",
            "Epoch 65/70\n",
            "247/248 [============================>.] - ETA: 0s - loss: 0.3296 - acc: 0.8615Epoch 1/70\n",
            "248/248 [==============================] - 203s 820ms/step - loss: 0.3299 - acc: 0.8612 - val_loss: 0.2918 - val_acc: 0.8897\n",
            "Epoch 66/70\n",
            "247/248 [============================>.] - ETA: 0s - loss: 0.3144 - acc: 0.8668Epoch 1/70\n",
            "248/248 [==============================] - 204s 821ms/step - loss: 0.3145 - acc: 0.8667 - val_loss: 0.3261 - val_acc: 0.8646\n",
            "Epoch 67/70\n",
            "247/248 [============================>.] - ETA: 0s - loss: 0.3145 - acc: 0.8650Epoch 1/70\n",
            "248/248 [==============================] - 207s 834ms/step - loss: 0.3146 - acc: 0.8650 - val_loss: 0.4068 - val_acc: 0.8195\n",
            "Epoch 68/70\n",
            "247/248 [============================>.] - ETA: 0s - loss: 0.3077 - acc: 0.8699Epoch 1/70\n",
            "248/248 [==============================] - 206s 831ms/step - loss: 0.3080 - acc: 0.8699 - val_loss: 0.3570 - val_acc: 0.8452\n",
            "Epoch 69/70\n",
            "247/248 [============================>.] - ETA: 0s - loss: 0.3189 - acc: 0.8664Epoch 1/70\n",
            "248/248 [==============================] - 204s 822ms/step - loss: 0.3189 - acc: 0.8664 - val_loss: 0.2627 - val_acc: 0.8899\n",
            "Epoch 70/70\n",
            "247/248 [============================>.] - ETA: 0s - loss: 0.3130 - acc: 0.8678Epoch 1/70\n",
            "248/248 [==============================] - 206s 832ms/step - loss: 0.3138 - acc: 0.8674 - val_loss: 0.2920 - val_acc: 0.8931\n"
          ],
          "name": "stdout"
        }
      ]
    },
    {
      "cell_type": "code",
      "metadata": {
        "id": "MWZrJN4-65RC",
        "colab_type": "code",
        "outputId": "bb524674-8093-4c68-e46e-c421ce7edee6",
        "colab": {
          "base_uri": "https://localhost:8080/",
          "height": 562
        }
      },
      "source": [
        "# PLOT LOSS AND ACCURACY\n",
        "%matplotlib inline\n",
        "\n",
        "import matplotlib.image  as mpimg\n",
        "import matplotlib.pyplot as plt\n",
        "\n",
        "#-----------------------------------------------------------\n",
        "# Retrieve a list of list results on training and test data\n",
        "# sets for each training epoch\n",
        "#-----------------------------------------------------------\n",
        "acc=history.history['acc']\n",
        "val_acc=history.history['val_acc']\n",
        "loss=history.history['loss']\n",
        "val_loss=history.history['val_loss']\n",
        "\n",
        "epochs=range(len(acc)) # Get number of epochs\n",
        "\n",
        "#------------------------------------------------\n",
        "# Plot training and validation accuracy per epoch\n",
        "#------------------------------------------------\n",
        "plt.plot(epochs, acc, 'r', \"Training Accuracy\")\n",
        "plt.plot(epochs, val_acc, 'b', \"Validation Accuracy\")\n",
        "plt.title('Training and validation accuracy')\n",
        "plt.figure()\n",
        "\n",
        "#------------------------------------------------\n",
        "# Plot training and validation loss per epoch\n",
        "#------------------------------------------------\n",
        "plt.plot(epochs, loss, 'r', \"Training Loss\")\n",
        "plt.plot(epochs, val_loss, 'b', \"Validation Loss\")\n",
        "\n",
        "\n",
        "plt.title('Training and validation loss')\n"
      ],
      "execution_count": 0,
      "outputs": [
        {
          "output_type": "execute_result",
          "data": {
            "text/plain": [
              "Text(0.5, 1.0, 'Training and validation loss')"
            ]
          },
          "metadata": {
            "tags": []
          },
          "execution_count": 25
        },
        {
          "output_type": "display_data",
          "data": {
            "image/png": "[encoded data removed]",
            "text/plain": [
              "<Figure size 432x288 with 1 Axes>"
            ]
          },
          "metadata": {
            "tags": []
          }
        },
        {
          "output_type": "display_data",
          "data": {
            "image/png": "[encoded data removed]",
            "text/plain": [
              "<Figure size 432x288 with 1 Axes>"
            ]
          },
          "metadata": {
            "tags": []
          }
        }
      ]
    },
    {
      "cell_type": "code",
      "metadata": {
        "id": "LqL6FYUrtXpf",
        "colab_type": "code",
        "outputId": "4d6d5d86-97ac-4598-e007-1cde517c3e8d",
        "colab": {
          "resources": {
            "http://localhost:8080/nbextensions/google.colab/files.js": {
              "data": "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",
              "ok": true,
              "headers": [
                [
                  "content-type",
                  "application/javascript"
                ]
              ],
              "status": 200,
              "status_text": ""
            }
          },
          "base_uri": "https://localhost:8080/",
          "height": 108
        }
      },
      "source": [
        "# Here's a codeblock just for fun. You should be able to upload an image here \n",
        "# and have it classified without crashing\n",
        "\n",
        "import numpy as np\n",
        "from google.colab import files\n",
        "from keras.preprocessing import image\n",
        "\n",
        "uploaded = files.upload()\n",
        "\n",
        "for fn in uploaded.keys():\n",
        " \n",
        "  # predicting images\n",
        "  path = '/content/' + fn\n",
        "  img = image.load_img(path, target_size=(150,150))\n",
        "  x = image.img_to_array(img)\n",
        "  x = np.expand_dims(x, axis=0)\n",
        "\n",
        "  images = np.vstack([x])\n",
        "  classes = model.predict(images, batch_size=10)\n",
        "  print(classes[0])\n",
        "  if classes[0]>0.5:\n",
        "    print(fn + \" is a dog\")\n",
        "  else:\n",
        "    print(fn + \" is a cat\")"
      ],
      "execution_count": 0,
      "outputs": [
        {
          "output_type": "display_data",
          "data": {
            "text/html": [
              "\n",
              "     <input type=\"file\" id=\"files-971106f6-ae2e-46fd-91d5-608d70f047b2\" name=\"files[]\" multiple disabled />\n",
              "     <output id=\"result-971106f6-ae2e-46fd-91d5-608d70f047b2\">\n",
              "      Upload widget is only available when the cell has been executed in the\n",
              "      current browser session. Please rerun this cell to enable.\n",
              "      </output>\n",
              "      <script src=\"/nbextensions/google.colab/files.js\"></script> "
            ],
            "text/plain": [
              "<IPython.core.display.HTML object>"
            ]
          },
          "metadata": {
            "tags": []
          }
        },
        {
          "output_type": "stream",
          "text": [
            "Saving 14.jpg to 14.jpg\n",
            "[1.]\n",
            "14.jpg is a dog\n"
          ],
          "name": "stdout"
        }
      ]
    },
    {
      "cell_type": "code",
      "metadata": {
        "id": "-dRdkn4sN3Tl",
        "colab_type": "code",
        "colab": {}
      },
      "source": [
        ""
      ],
      "execution_count": 0,
      "outputs": []
    }
  ]
}